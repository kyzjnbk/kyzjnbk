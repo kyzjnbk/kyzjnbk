{
 "cells": [
  {
   "cell_type": "code",
   "execution_count": 1,
   "metadata": {},
   "outputs": [
    {
     "name": "stdout",
     "output_type": "stream",
     "text": [
      "-0.6493021022162464888541499061\n"
     ]
    }
   ],
   "source": [
    "from decimal import *\n",
    "f = lambda x:Decimal(5.0)*x**3 + Decimal(8.0002)*x*x + Decimal(2.1334)*x - Decimal(1.2096)\n",
    "\n",
    "x=Decimal(-0.5)\n",
    "for i in range(80):\n",
    "    x=f(x)\n",
    "print(x)"
   ]
  },
  {
   "cell_type": "code",
   "execution_count": 2,
   "metadata": {},
   "outputs": [
    {
     "name": "stdout",
     "output_type": "stream",
     "text": [
      "-0.29512569686028445\n"
     ]
    }
   ],
   "source": [
    "f = lambda x:5.0*x*x*x + 8.0002*x*x + 2.1334*x - 1.2096\n",
    "\n",
    "x=-0.5\n",
    "for i in range(80):\n",
    "    x=f(x)\n",
    "print(x)"
   ]
  },
  {
   "cell_type": "code",
   "execution_count": 3,
   "metadata": {},
   "outputs": [
    {
     "name": "stdout",
     "output_type": "stream",
     "text": [
      "-0.6153580184796061\n"
     ]
    }
   ],
   "source": [
    "f = lambda x:5.0*x**3 + 8.0002*x*x + 2.1334*x - 1.2096\n",
    "\n",
    "x=-0.5\n",
    "for i in range(80):\n",
    "    x=f(x)\n",
    "print(x)"
   ]
  },
  {
   "cell_type": "code",
   "execution_count": 4,
   "metadata": {},
   "outputs": [
    {
     "name": "stdout",
     "output_type": "stream",
     "text": [
      "-0.5995325711537465\n"
     ]
    }
   ],
   "source": [
    "f= lambda x: 5.0*x**3 + 8.0002*x**2 + 2.1334*x - 1.2096\n",
    "\n",
    "x=-0.5\n",
    "for i in range(80):\n",
    "    x=f(x)\n",
    "print(x)"
   ]
  },
  {
   "cell_type": "code",
   "execution_count": 5,
   "metadata": {},
   "outputs": [
    {
     "name": "stdout",
     "output_type": "stream",
     "text": [
      "-0.6534053707730139\n"
     ]
    }
   ],
   "source": [
    "f = lambda x:5.0*x*x*x + 8.0002*x**2 + 2.1334*x - 1.2096\n",
    "\n",
    "x=-0.5\n",
    "for i in range(80):\n",
    "    x=f(x)\n",
    "print(x)"
   ]
  },
  {
   "cell_type": "code",
   "execution_count": null,
   "metadata": {},
   "outputs": [],
   "source": []
  }
 ],
 "metadata": {
  "kernelspec": {
   "display_name": "Python 3",
   "language": "python",
   "name": "python3"
  },
  "language_info": {
   "codemirror_mode": {
    "name": "ipython",
    "version": 3
   },
   "file_extension": ".py",
   "mimetype": "text/x-python",
   "name": "python",
   "nbconvert_exporter": "python",
   "pygments_lexer": "ipython3",
   "version": "3.8.6"
  }
 },
 "nbformat": 4,
 "nbformat_minor": 4
}
