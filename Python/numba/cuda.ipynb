{
 "cells": [
  {
   "cell_type": "code",
   "execution_count": 1,
   "metadata": {},
   "outputs": [],
   "source": [
    "from numba import cuda\n",
    "import numpy as np\n",
    "import matplotlib.pyplot as plt\n",
    "import math"
   ]
  },
  {
   "cell_type": "markdown",
   "metadata": {},
   "source": [
    "## Example：计算数组中每一个元素的平方值"
   ]
  },
  {
   "cell_type": "code",
   "execution_count": 2,
   "metadata": {},
   "outputs": [],
   "source": [
    "@cuda.jit # kernel function\n",
    "def square_kernel(INPUT,OUTPUT,rows,cols):\n",
    "    i,j = cuda.grid(2)\n",
    "    if(i<rows and j<cols):\n",
    "        OUTPUT[i,j]=INPUT[i,j]*INPUT[i,j]\n",
    "\n",
    "def square(M):\n",
    "    rows=M.shape[0]\n",
    "    cols=M.shape[1]\n",
    "    \n",
    "    device_INPUT = cuda.to_device(M)\n",
    "    device_OUTPUT = cuda.device_array_like(device_INPUT)\n",
    "    # Configure the blocks\n",
    "    threadsperblock = (16, 16)\n",
    "    blockspergrid_x = int(math.ceil(rows / threadsperblock[0]))\n",
    "    blockspergrid_y = int(math.ceil(cols / threadsperblock[0]))\n",
    "    blockspergrid = (blockspergrid_x, blockspergrid_y)\n",
    "    square_kernel[blockspergrid, threadsperblock](device_INPUT,device_OUTPUT,rows,cols)\n",
    "    return device_OUTPUT.copy_to_host()"
   ]
  },
  {
   "cell_type": "code",
   "execution_count": 3,
   "metadata": {},
   "outputs": [
    {
     "name": "stdout",
     "output_type": "stream",
     "text": [
      "[[ 0.1646849  -0.4861291 ]\n",
      " [ 0.26488708 -0.78395807]\n",
      " [-1.49390283  0.15972329]]\n"
     ]
    }
   ],
   "source": [
    "M=np.random.randn(3,2)\n",
    "print(M)"
   ]
  },
  {
   "cell_type": "code",
   "execution_count": 4,
   "metadata": {},
   "outputs": [
    {
     "name": "stdout",
     "output_type": "stream",
     "text": [
      "[[0.02712112 0.2363215 ]\n",
      " [0.07016517 0.61459026]\n",
      " [2.23174566 0.02551153]]\n",
      "\n",
      "[[0.02712112 0.2363215 ]\n",
      " [0.07016517 0.61459026]\n",
      " [2.23174566 0.02551153]]\n"
     ]
    },
    {
     "data": {
      "text/plain": [
       "True"
      ]
     },
     "execution_count": 4,
     "metadata": {},
     "output_type": "execute_result"
    }
   ],
   "source": [
    "print(square(M),end='\\n\\n')\n",
    "print(M**2) # use numpy to computer square\n",
    "np.alltrue(M**2==square(M))"
   ]
  },
  {
   "cell_type": "code",
   "execution_count": null,
   "metadata": {},
   "outputs": [],
   "source": []
  }
 ],
 "metadata": {
  "kernelspec": {
   "display_name": "Python 3",
   "language": "python",
   "name": "python3"
  },
  "language_info": {
   "codemirror_mode": {
    "name": "ipython",
    "version": 3
   },
   "file_extension": ".py",
   "mimetype": "text/x-python",
   "name": "python",
   "nbconvert_exporter": "python",
   "pygments_lexer": "ipython3",
   "version": "3.8.6"
  }
 },
 "nbformat": 4,
 "nbformat_minor": 4
}
